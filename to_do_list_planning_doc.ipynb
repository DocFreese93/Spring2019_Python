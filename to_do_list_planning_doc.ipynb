{
 "cells": [
  {
   "cell_type": "markdown",
   "metadata": {},
   "source": [
    "To Do List Application\n",
    "\n",
    "1) View the items on your todo list\n",
    "2) View the items you have finished\n",
    "3) Add an item to the todo list\n",
    "4) Mark a todo list item as completed\n",
    "5) Exit the Todo List Application (your list will not be saved)\n",
    "\n",
    "\n",
    "- Function: Option Selection\n",
    "    - Prompt user to enter a number to select an option\n",
    "        - Validate user input (input must be numeric values between 1 and 5)\n",
    "        - Display Error message if input is invalid and prompt user until valid input is provided\n",
    "            - Option 1: view current to do list items\n",
    "            - Option 2: view finished items\n",
    "            - Option 3: add item to to do list\n",
    "            - Option 4: Move item to completed list\n",
    "            - Option 5: Exit application\n",
    "\n",
    "- Option 1 Function \n",
    "    - Display current items within to do list\n",
    "    \n",
    "- Option 2 Function\n",
    "    - Display items from to do list that have been completed\n",
    "\n",
    "- Option 3 Function\n",
    "    - Display message that prompts user to enter input for an item to be added to To Do List\n",
    "    - Ask user the priority of the item\n",
    "    - Assign user input to new element within To Do List\n",
    "    \n",
    "- Option 4 Function\n",
    "    - copy value from to do list item to completed list\n",
    "    - remove item from to do list\n",
    "    \n",
    "- Option 5 Function\n",
    "    - End the application"
   ]
  },
  {
   "cell_type": "code",
   "execution_count": null,
   "metadata": {},
   "outputs": [],
   "source": [
    "Collaborators:\n",
    "    Orion\n",
    "    Caleb\n",
    "    Stephanie"
   ]
  },
  {
   "cell_type": "markdown",
   "metadata": {},
   "source": [
    "Experience:\n",
    "    When I collaborated with my group members, they come up with some ideas that did not even occur to me as something to add to the application. I felt that it was overall a positive experience working with others and coming up a plan on how to create the application. "
   ]
  }
 ],
 "metadata": {
  "kernelspec": {
   "display_name": "Python 3",
   "language": "python",
   "name": "python3"
  },
  "language_info": {
   "codemirror_mode": {
    "name": "ipython",
    "version": 3
   },
   "file_extension": ".py",
   "mimetype": "text/x-python",
   "name": "python",
   "nbconvert_exporter": "python",
   "pygments_lexer": "ipython3",
   "version": "3.7.1"
  }
 },
 "nbformat": 4,
 "nbformat_minor": 2
}
